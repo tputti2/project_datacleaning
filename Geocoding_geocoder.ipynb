{
 "cells": [
  {
   "cell_type": "code",
   "execution_count": 62,
   "metadata": {
    "collapsed": false
   },
   "outputs": [],
   "source": [
    "import geocoder #importing geocoding library\n",
    "import pandas #python library\n",
    "df = pandas.read_csv(\"Data_Cleaning_Menu_Moodle_data.csv\") #input the file into the the data frame\n",
    "#df.assign(place_lat=\"\",place_city=\"\",place_state=\"\")\n",
    "\n",
    "place_lat = [] #creating empty list to store values\n",
    "place_city = [] #creating empty list to store values\n",
    "place_state = [] #creating empty list to store values\n",
    "place_lng = [] #creating empty list to store values\n",
    "location_lat = [] #creating empty list to store values\n",
    "location_city = [] #creating empty list to store values\n",
    "location_state = [] #creating empty list to store values\n",
    "location_lng = [] #creating empty list to store values\n",
    "\n",
    "\n",
    "for i in range (17079): #loop to run for the number of rows\n",
    "    place = df.ix[i, 'place'] #get value of place from data\n",
    "    location = df.ix[i, 'location'] #get value of location from data\n",
    "#   place1 = place.to_string()\n",
    "    geo1 = geocoder.here(place, app_id='c3mLbh7LypLWBBbmFkQz', app_code='8h1iy3B6FH7JhmtkdnIuUw') #getting data from here maps\n",
    "    #geo1 = geocoder.google(place)\n",
    "    #print(geo1)\n",
    "    geo2 = geocoder.here(location, app_id='c3mLbh7LypLWBBbmFkQz', app_code='8h1iy3B6FH7JhmtkdnIuUw') #getting data from here maps\n",
    "    #geo2 = geocoder.google(location) \n",
    "    #print(geo2)\n",
    "    place_lat.append(geo1.lat) #storing data in list\n",
    "    #print(place_lat)\n",
    "    place_lng.append(geo1.lng) #storing data in list\n",
    "    place_city.append(geo1.city) #storing data in list\n",
    "    place_state.append(geo1.state) #storing data in list\n",
    "    \n",
    "    location_lat.append(geo2.lat) #storing data in list\n",
    "    location_city.append(geo2.lng) #storing data in list\n",
    "    location_state.append(geo2.city) #storing data in list\n",
    "    location_lng.append(geo2.state) #storing data in list\n",
    "\n",
    "df1 = pd.DataFrame({'place_lat': place_lat, 'place_lng': place_lng, 'place_city': place_city, 'place_state': place_state}) #creating dat frame from the list\n",
    "df2 = pd.DataFrame({'location_lat': place_lat, 'location_lng': place_lng, 'location_city': place_city, 'location_state': place_state})\n",
    "#del a_list, b_list\n",
    "#print(place_lat)\n",
    "#df1.head()\n",
    "result = pd.concat([df, df1, df2], axis=1) #combining all data frames\n",
    "result.head() \n",
    "result.to_csv('all_here.csv', sep=',', encoding='utf-8') #taking the output in a csv file\n"
   ]
  },
  {
   "cell_type": "code",
   "execution_count": null,
   "metadata": {
    "collapsed": true
   },
   "outputs": [],
   "source": []
  }
 ],
 "metadata": {
  "kernelspec": {
   "display_name": "Python [conda root]",
   "language": "python",
   "name": "conda-root-py"
  },
  "language_info": {
   "codemirror_mode": {
    "name": "ipython",
    "version": 3
   },
   "file_extension": ".py",
   "mimetype": "text/x-python",
   "name": "python",
   "nbconvert_exporter": "python",
   "pygments_lexer": "ipython3",
   "version": "3.5.2"
  }
 },
 "nbformat": 4,
 "nbformat_minor": 2
}
